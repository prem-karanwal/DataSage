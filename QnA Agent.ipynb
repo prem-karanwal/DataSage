{
 "cells": [
  {
   "cell_type": "code",
   "execution_count": 14,
   "id": "d8384261",
   "metadata": {},
   "outputs": [
    {
     "name": "stdout",
     "output_type": "stream",
     "text": [
      "Requirement already satisfied: requests in c:\\users\\drigger\\anaconda3\\lib\\site-packages (2.31.0)\n",
      "Requirement already satisfied: numpy in c:\\users\\drigger\\anaconda3\\lib\\site-packages (1.24.3)\n",
      "Requirement already satisfied: pandas in c:\\users\\drigger\\anaconda3\\lib\\site-packages (2.0.3)\n",
      "Requirement already satisfied: transformers in c:\\users\\drigger\\anaconda3\\lib\\site-packages (4.32.1)\n",
      "Requirement already satisfied: langchain in c:\\users\\drigger\\anaconda3\\lib\\site-packages (0.2.1)\n",
      "Requirement already satisfied: llama-index in c:\\users\\drigger\\anaconda3\\lib\\site-packages (0.10.44)\n",
      "Requirement already satisfied: charset-normalizer<4,>=2 in c:\\users\\drigger\\anaconda3\\lib\\site-packages (from requests) (2.0.4)\n",
      "Requirement already satisfied: idna<4,>=2.5 in c:\\users\\drigger\\anaconda3\\lib\\site-packages (from requests) (3.4)\n",
      "Requirement already satisfied: urllib3<3,>=1.21.1 in c:\\users\\drigger\\anaconda3\\lib\\site-packages (from requests) (1.26.16)\n",
      "Requirement already satisfied: certifi>=2017.4.17 in c:\\users\\drigger\\anaconda3\\lib\\site-packages (from requests) (2023.7.22)\n",
      "Requirement already satisfied: python-dateutil>=2.8.2 in c:\\users\\drigger\\anaconda3\\lib\\site-packages (from pandas) (2.8.2)\n",
      "Requirement already satisfied: pytz>=2020.1 in c:\\users\\drigger\\anaconda3\\lib\\site-packages (from pandas) (2023.3.post1)\n",
      "Requirement already satisfied: tzdata>=2022.1 in c:\\users\\drigger\\anaconda3\\lib\\site-packages (from pandas) (2023.3)\n",
      "Requirement already satisfied: filelock in c:\\users\\drigger\\anaconda3\\lib\\site-packages (from transformers) (3.9.0)\n",
      "Requirement already satisfied: huggingface-hub<1.0,>=0.15.1 in c:\\users\\drigger\\anaconda3\\lib\\site-packages (from transformers) (0.15.1)\n",
      "Requirement already satisfied: packaging>=20.0 in c:\\users\\drigger\\anaconda3\\lib\\site-packages (from transformers) (23.2)\n",
      "Requirement already satisfied: pyyaml>=5.1 in c:\\users\\drigger\\anaconda3\\lib\\site-packages (from transformers) (6.0.1)\n",
      "Requirement already satisfied: regex!=2019.12.17 in c:\\users\\drigger\\anaconda3\\lib\\site-packages (from transformers) (2022.7.9)\n",
      "Requirement already satisfied: tokenizers!=0.11.3,<0.14,>=0.11.1 in c:\\users\\drigger\\anaconda3\\lib\\site-packages (from transformers) (0.13.2)\n",
      "Requirement already satisfied: safetensors>=0.3.1 in c:\\users\\drigger\\anaconda3\\lib\\site-packages (from transformers) (0.3.2)\n",
      "Requirement already satisfied: tqdm>=4.27 in c:\\users\\drigger\\anaconda3\\lib\\site-packages (from transformers) (4.66.4)\n",
      "Requirement already satisfied: SQLAlchemy<3,>=1.4 in c:\\users\\drigger\\anaconda3\\lib\\site-packages (from langchain) (2.0.30)\n",
      "Requirement already satisfied: aiohttp<4.0.0,>=3.8.3 in c:\\users\\drigger\\anaconda3\\lib\\site-packages (from langchain) (3.9.5)\n",
      "Requirement already satisfied: langchain-core<0.3.0,>=0.2.0 in c:\\users\\drigger\\anaconda3\\lib\\site-packages (from langchain) (0.2.3)\n",
      "Requirement already satisfied: langchain-text-splitters<0.3.0,>=0.2.0 in c:\\users\\drigger\\anaconda3\\lib\\site-packages (from langchain) (0.2.0)\n",
      "Requirement already satisfied: langsmith<0.2.0,>=0.1.17 in c:\\users\\drigger\\anaconda3\\lib\\site-packages (from langchain) (0.1.67)\n",
      "Requirement already satisfied: pydantic<3,>=1 in c:\\users\\drigger\\anaconda3\\lib\\site-packages (from langchain) (1.10.8)\n",
      "Requirement already satisfied: tenacity<9.0.0,>=8.1.0 in c:\\users\\drigger\\anaconda3\\lib\\site-packages (from langchain) (8.2.3)\n",
      "Requirement already satisfied: llama-index-agent-openai<0.3.0,>=0.1.4 in c:\\users\\drigger\\anaconda3\\lib\\site-packages (from llama-index) (0.2.7)\n",
      "Requirement already satisfied: llama-index-cli<0.2.0,>=0.1.2 in c:\\users\\drigger\\anaconda3\\lib\\site-packages (from llama-index) (0.1.12)\n",
      "Requirement already satisfied: llama-index-core==0.10.44 in c:\\users\\drigger\\anaconda3\\lib\\site-packages (from llama-index) (0.10.44)\n",
      "Requirement already satisfied: llama-index-embeddings-openai<0.2.0,>=0.1.5 in c:\\users\\drigger\\anaconda3\\lib\\site-packages (from llama-index) (0.1.10)\n",
      "Requirement already satisfied: llama-index-indices-managed-llama-cloud<0.2.0,>=0.1.2 in c:\\users\\drigger\\anaconda3\\lib\\site-packages (from llama-index) (0.1.6)\n",
      "Requirement already satisfied: llama-index-legacy<0.10.0,>=0.9.48 in c:\\users\\drigger\\anaconda3\\lib\\site-packages (from llama-index) (0.9.48)\n",
      "Requirement already satisfied: llama-index-llms-openai<0.2.0,>=0.1.13 in c:\\users\\drigger\\anaconda3\\lib\\site-packages (from llama-index) (0.1.22)\n",
      "Requirement already satisfied: llama-index-multi-modal-llms-openai<0.2.0,>=0.1.3 in c:\\users\\drigger\\anaconda3\\lib\\site-packages (from llama-index) (0.1.6)\n",
      "Requirement already satisfied: llama-index-program-openai<0.2.0,>=0.1.3 in c:\\users\\drigger\\anaconda3\\lib\\site-packages (from llama-index) (0.1.6)\n",
      "Requirement already satisfied: llama-index-question-gen-openai<0.2.0,>=0.1.2 in c:\\users\\drigger\\anaconda3\\lib\\site-packages (from llama-index) (0.1.3)\n",
      "Requirement already satisfied: llama-index-readers-file<0.2.0,>=0.1.4 in c:\\users\\drigger\\anaconda3\\lib\\site-packages (from llama-index) (0.1.25)\n",
      "Requirement already satisfied: llama-index-readers-llama-parse<0.2.0,>=0.1.2 in c:\\users\\drigger\\anaconda3\\lib\\site-packages (from llama-index) (0.1.4)\n",
      "Requirement already satisfied: dataclasses-json in c:\\users\\drigger\\anaconda3\\lib\\site-packages (from llama-index-core==0.10.44->llama-index) (0.6.4)\n",
      "Requirement already satisfied: deprecated>=1.2.9.3 in c:\\users\\drigger\\anaconda3\\lib\\site-packages (from llama-index-core==0.10.44->llama-index) (1.2.14)\n",
      "Requirement already satisfied: dirtyjson<2.0.0,>=1.0.8 in c:\\users\\drigger\\anaconda3\\lib\\site-packages (from llama-index-core==0.10.44->llama-index) (1.0.8)\n",
      "Requirement already satisfied: fsspec>=2023.5.0 in c:\\users\\drigger\\anaconda3\\lib\\site-packages (from llama-index-core==0.10.44->llama-index) (2024.6.0)\n",
      "Requirement already satisfied: httpx in c:\\users\\drigger\\anaconda3\\lib\\site-packages (from llama-index-core==0.10.44->llama-index) (0.27.0)\n",
      "Requirement already satisfied: llamaindex-py-client<0.2.0,>=0.1.18 in c:\\users\\drigger\\anaconda3\\lib\\site-packages (from llama-index-core==0.10.44->llama-index) (0.1.19)\n",
      "Requirement already satisfied: nest-asyncio<2.0.0,>=1.5.8 in c:\\users\\drigger\\anaconda3\\lib\\site-packages (from llama-index-core==0.10.44->llama-index) (1.6.0)\n",
      "Requirement already satisfied: networkx>=3.0 in c:\\users\\drigger\\anaconda3\\lib\\site-packages (from llama-index-core==0.10.44->llama-index) (3.1)\n",
      "Requirement already satisfied: nltk<4.0.0,>=3.8.1 in c:\\users\\drigger\\anaconda3\\lib\\site-packages (from llama-index-core==0.10.44->llama-index) (3.8.1)\n",
      "Requirement already satisfied: openai>=1.1.0 in c:\\users\\drigger\\anaconda3\\lib\\site-packages (from llama-index-core==0.10.44->llama-index) (1.34.0)\n",
      "Requirement already satisfied: pillow>=9.0.0 in c:\\users\\drigger\\anaconda3\\lib\\site-packages (from llama-index-core==0.10.44->llama-index) (9.4.0)\n",
      "Requirement already satisfied: tiktoken>=0.3.3 in c:\\users\\drigger\\anaconda3\\lib\\site-packages (from llama-index-core==0.10.44->llama-index) (0.6.0)\n",
      "Requirement already satisfied: typing-extensions>=4.5.0 in c:\\users\\drigger\\anaconda3\\lib\\site-packages (from llama-index-core==0.10.44->llama-index) (4.10.0)\n",
      "Requirement already satisfied: typing-inspect>=0.8.0 in c:\\users\\drigger\\anaconda3\\lib\\site-packages (from llama-index-core==0.10.44->llama-index) (0.9.0)\n",
      "Requirement already satisfied: wrapt in c:\\users\\drigger\\anaconda3\\lib\\site-packages (from llama-index-core==0.10.44->llama-index) (1.14.1)\n",
      "Requirement already satisfied: aiosignal>=1.1.2 in c:\\users\\drigger\\anaconda3\\lib\\site-packages (from aiohttp<4.0.0,>=3.8.3->langchain) (1.2.0)\n",
      "Requirement already satisfied: attrs>=17.3.0 in c:\\users\\drigger\\anaconda3\\lib\\site-packages (from aiohttp<4.0.0,>=3.8.3->langchain) (22.1.0)\n",
      "Requirement already satisfied: frozenlist>=1.1.1 in c:\\users\\drigger\\anaconda3\\lib\\site-packages (from aiohttp<4.0.0,>=3.8.3->langchain) (1.3.3)\n",
      "Requirement already satisfied: multidict<7.0,>=4.5 in c:\\users\\drigger\\anaconda3\\lib\\site-packages (from aiohttp<4.0.0,>=3.8.3->langchain) (6.0.2)\n",
      "Requirement already satisfied: yarl<2.0,>=1.0 in c:\\users\\drigger\\anaconda3\\lib\\site-packages (from aiohttp<4.0.0,>=3.8.3->langchain) (1.8.1)\n",
      "Requirement already satisfied: jsonpatch<2.0,>=1.33 in c:\\users\\drigger\\anaconda3\\lib\\site-packages (from langchain-core<0.3.0,>=0.2.0->langchain) (1.33)\n",
      "Requirement already satisfied: orjson<4.0.0,>=3.9.14 in c:\\users\\drigger\\anaconda3\\lib\\site-packages (from langsmith<0.2.0,>=0.1.17->langchain) (3.10.1)\n",
      "Requirement already satisfied: beautifulsoup4<5.0.0,>=4.12.3 in c:\\users\\drigger\\anaconda3\\lib\\site-packages (from llama-index-readers-file<0.2.0,>=0.1.4->llama-index) (4.12.3)\n",
      "Requirement already satisfied: pypdf<5.0.0,>=4.0.1 in c:\\users\\drigger\\anaconda3\\lib\\site-packages (from llama-index-readers-file<0.2.0,>=0.1.4->llama-index) (4.2.0)\n",
      "Requirement already satisfied: striprtf<0.0.27,>=0.0.26 in c:\\users\\drigger\\anaconda3\\lib\\site-packages (from llama-index-readers-file<0.2.0,>=0.1.4->llama-index) (0.0.26)\n",
      "Requirement already satisfied: llama-parse<0.5.0,>=0.4.0 in c:\\users\\drigger\\anaconda3\\lib\\site-packages (from llama-index-readers-llama-parse<0.2.0,>=0.1.2->llama-index) (0.4.4)\n",
      "Requirement already satisfied: six>=1.5 in c:\\users\\drigger\\anaconda3\\lib\\site-packages (from python-dateutil>=2.8.2->pandas) (1.16.0)\n",
      "Requirement already satisfied: greenlet!=0.4.17 in c:\\users\\drigger\\anaconda3\\lib\\site-packages (from SQLAlchemy<3,>=1.4->langchain) (2.0.1)\n",
      "Requirement already satisfied: colorama in c:\\users\\drigger\\anaconda3\\lib\\site-packages (from tqdm>=4.27->transformers) (0.4.6)\n",
      "Requirement already satisfied: soupsieve>1.2 in c:\\users\\drigger\\anaconda3\\lib\\site-packages (from beautifulsoup4<5.0.0,>=4.12.3->llama-index-readers-file<0.2.0,>=0.1.4->llama-index) (2.4)\n",
      "Requirement already satisfied: jsonpointer>=1.9 in c:\\users\\drigger\\anaconda3\\lib\\site-packages (from jsonpatch<2.0,>=1.33->langchain-core<0.3.0,>=0.2.0->langchain) (2.1)\n",
      "Requirement already satisfied: anyio in c:\\users\\drigger\\anaconda3\\lib\\site-packages (from httpx->llama-index-core==0.10.44->llama-index) (3.5.0)\n",
      "Requirement already satisfied: httpcore==1.* in c:\\users\\drigger\\anaconda3\\lib\\site-packages (from httpx->llama-index-core==0.10.44->llama-index) (1.0.5)\n",
      "Requirement already satisfied: sniffio in c:\\users\\drigger\\anaconda3\\lib\\site-packages (from httpx->llama-index-core==0.10.44->llama-index) (1.2.0)\n",
      "Requirement already satisfied: h11<0.15,>=0.13 in c:\\users\\drigger\\anaconda3\\lib\\site-packages (from httpcore==1.*->httpx->llama-index-core==0.10.44->llama-index) (0.14.0)\n",
      "Requirement already satisfied: click in c:\\users\\drigger\\anaconda3\\lib\\site-packages (from nltk<4.0.0,>=3.8.1->llama-index-core==0.10.44->llama-index) (8.0.4)\n",
      "Requirement already satisfied: joblib in c:\\users\\drigger\\anaconda3\\lib\\site-packages (from nltk<4.0.0,>=3.8.1->llama-index-core==0.10.44->llama-index) (1.2.0)\n",
      "Requirement already satisfied: distro<2,>=1.7.0 in c:\\users\\drigger\\anaconda3\\lib\\site-packages (from openai>=1.1.0->llama-index-core==0.10.44->llama-index) (1.9.0)\n",
      "Requirement already satisfied: mypy-extensions>=0.3.0 in c:\\users\\drigger\\anaconda3\\lib\\site-packages (from typing-inspect>=0.8.0->llama-index-core==0.10.44->llama-index) (1.0.0)\n",
      "Requirement already satisfied: marshmallow<4.0.0,>=3.18.0 in c:\\users\\drigger\\anaconda3\\lib\\site-packages (from dataclasses-json->llama-index-core==0.10.44->llama-index) (3.21.1)\n",
      "Note: you may need to restart the kernel to use updated packages.\n"
     ]
    }
   ],
   "source": [
    "pip install requests numpy pandas transformers langchain llama-index\n"
   ]
  },
  {
   "cell_type": "code",
   "execution_count": 172,
   "id": "4b949386",
   "metadata": {},
   "outputs": [],
   "source": [
    "import requests\n",
    "import pandas as pd\n",
    "from transformers import pipeline\n"
   ]
  },
  {
   "cell_type": "code",
   "execution_count": 173,
   "id": "155f410f",
   "metadata": {},
   "outputs": [],
   "source": [
    "lecture_urls = [\n",
    "    \"https://stanford-cs324.github.io/winter2022/lectures/introduction/\",\n",
    "    \"https://stanford-cs324.github.io/winter2022/lectures/harms-1/\",\n",
    "    \"https://stanford-cs324.github.io/winter2022/lectures/modeling/\",\n",
    "    \"https://stanford-cs324.github.io/winter2022/lectures/data/\"\n",
    "]"
   ]
  },
  {
   "cell_type": "code",
   "execution_count": 174,
   "id": "03fbd383",
   "metadata": {},
   "outputs": [],
   "source": [
    "from bs4 import BeautifulSoup\n",
    "\n",
    "lectures = []\n",
    "for url in lecture_urls:\n",
    "    response = requests.get(url)\n",
    "    soup = BeautifulSoup(response.text, 'html.parser')\n",
    "    # Find and extract text elements from the webpage\n",
    "    text = ' '.join([element.text for element in soup.find_all(['p', 'h1', 'h2', 'h3', 'h4', 'h5', 'h6', 'ul'])])\n",
    "    lectures.append(text)\n"
   ]
  },
  {
   "cell_type": "code",
   "execution_count": 175,
   "id": "b4ae12c8",
   "metadata": {},
   "outputs": [],
   "source": [
    "\n",
    "architecture_table_url = \"https://github.com/Hannibal046/Awesome-LLM?tab=readme-ov-file#milestone-papers\"\n",
    "response = requests.get(architecture_table_url)\n",
    "\n",
    "soup = BeautifulSoup(response.text, 'html.parser')\n",
    "\n",
    "table = ' '.join([element.text for element in soup.find_all(['table'])])\n",
    "\n",
    "# print(table)\n"
   ]
  },
  {
   "cell_type": "code",
   "execution_count": 176,
   "id": "bb926bf1",
   "metadata": {},
   "outputs": [],
   "source": [
    "\n",
    "\n",
    "import google.generativeai as genai\n",
    "import os\n",
    "\n",
    "os.environ['GOOGLE_API_KEY'] = ''\n",
    "# api_key = os.getenv('GOOGLE_API_KEY')\n",
    "genai.configure(api_key=os.environ[\"GOOGLE_API_KEY\"])"
   ]
  },
  {
   "cell_type": "code",
   "execution_count": 177,
   "id": "b7c377b0",
   "metadata": {},
   "outputs": [],
   "source": [
    "model = genai.GenerativeModel('gemini-1.0-pro-latest')\n",
    "# response = model.generate_content(\"The opposite of hot is\")\n",
    "# print(response.text)"
   ]
  },
  {
   "cell_type": "code",
   "execution_count": 178,
   "id": "b1f42a23",
   "metadata": {},
   "outputs": [
    {
     "data": {
      "text/plain": [
       "4"
      ]
     },
     "execution_count": 178,
     "metadata": {},
     "output_type": "execute_result"
    }
   ],
   "source": [
    "len(lectures)"
   ]
  },
  {
   "cell_type": "code",
   "execution_count": 179,
   "id": "0a466b37",
   "metadata": {},
   "outputs": [],
   "source": [
    "from langchain_google_genai import GoogleGenerativeAIEmbeddings\n",
    "\n",
    "\n",
    "gemini_embeddings = GoogleGenerativeAIEmbeddings(model=\"models/embedding-001\")"
   ]
  },
  {
   "cell_type": "code",
   "execution_count": 181,
   "id": "9d6b1fbe",
   "metadata": {},
   "outputs": [],
   "source": [
    "lecture_embeddings = gemini_embeddings.embed_documents(lectures)\n",
    "architecture_embeddings = gemini_embeddings.embed_documents(table)\n"
   ]
  },
  {
   "cell_type": "code",
   "execution_count": 182,
   "id": "f06ee109",
   "metadata": {},
   "outputs": [],
   "source": [
    "documents = lectures + [table]\n",
    "embeddings = lecture_embeddings + architecture_embeddings\n"
   ]
  },
  {
   "cell_type": "code",
   "execution_count": 183,
   "id": "25079017",
   "metadata": {},
   "outputs": [],
   "source": [
    "from langchain_community.vectorstores import FAISS\n",
    "from langchain_text_splitters import CharacterTextSplitter\n",
    "from langchain_community.document_loaders import TextLoader\n"
   ]
  },
  {
   "cell_type": "code",
   "execution_count": 184,
   "id": "7f5404e0",
   "metadata": {},
   "outputs": [],
   "source": [
    "from langchain.schema import Document\n",
    "\n",
    "document_objects = [Document(page_content=doc) for doc in documents]\n"
   ]
  },
  {
   "cell_type": "code",
   "execution_count": 185,
   "id": "0aabf6c2",
   "metadata": {},
   "outputs": [],
   "source": [
    "vector_store = FAISS.from_documents(document_objects, gemini_embeddings)\n"
   ]
  },
  {
   "cell_type": "code",
   "execution_count": 214,
   "id": "1e324292",
   "metadata": {},
   "outputs": [],
   "source": [
    "queries = [\n",
    "    \"What is the problem with LAMBADA?\"\n",
    "]"
   ]
  },
  {
   "cell_type": "code",
   "execution_count": 215,
   "id": "3aff3dd5",
   "metadata": {},
   "outputs": [],
   "source": [
    "def handle_query(query, threshold=0.7):\n",
    "    # Embed the query\n",
    "    query_embedding = gemini_embeddings.embed_query(query)\n",
    "    \n",
    "    relevant_docs_with_scores = vector_store.similarity_search_with_score_by_vector(query_embedding, k=5)\n",
    "    \n",
    "    relevant_docs = [doc for doc, score in relevant_docs_with_scores if score >= threshold]\n",
    "    \n",
    "    if not relevant_docs:\n",
    "        return \"The answer to your query could not be found in the provided documents.\"\n",
    "    \n",
    "    combined_content = ' '.join([doc.page_content for doc in relevant_docs])\n",
    "    \n",
    "    prompt = f\"Based on the following documents:\\n{combined_content}\\n\\nAnswer the following query:\\n{query}\"\n",
    "    \n",
    "    response = model.generate_content(prompt)\n",
    "    \n",
    "    return response.text\n",
    "\n"
   ]
  },
  {
   "cell_type": "code",
   "execution_count": 218,
   "id": "5596b1fe",
   "metadata": {},
   "outputs": [
    {
     "name": "stdout",
     "output_type": "stream",
     "text": [
      "\n",
      "\n",
      "Query: What is the problem with LAMBADA?\n",
      "Response: The document does not mention LAMBADA. So I cannot answer this question.\n",
      "\n",
      "\n"
     ]
    }
   ],
   "source": [
    "for query in queries:\n",
    "    print(\"\\n\")\n",
    "    print(f\"Query: {query}\")\n",
    "    print(f\"Response: {handle_query(query)}\")\n",
    "    print(\"\\n\")\n",
    "    break"
   ]
  },
  {
   "cell_type": "code",
   "execution_count": null,
   "id": "acac1746",
   "metadata": {},
   "outputs": [],
   "source": []
  },
  {
   "cell_type": "code",
   "execution_count": null,
   "id": "c6f02cc9",
   "metadata": {},
   "outputs": [],
   "source": []
  },
  {
   "cell_type": "code",
   "execution_count": null,
   "id": "6938a6ef",
   "metadata": {},
   "outputs": [],
   "source": []
  }
 ],
 "metadata": {
  "kernelspec": {
   "display_name": "Python 3 (ipykernel)",
   "language": "python",
   "name": "python3"
  },
  "language_info": {
   "codemirror_mode": {
    "name": "ipython",
    "version": 3
   },
   "file_extension": ".py",
   "mimetype": "text/x-python",
   "name": "python",
   "nbconvert_exporter": "python",
   "pygments_lexer": "ipython3",
   "version": "3.11.5"
  }
 },
 "nbformat": 4,
 "nbformat_minor": 5
}
